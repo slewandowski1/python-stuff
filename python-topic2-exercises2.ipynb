{
 "cells": [
  {
   "cell_type": "markdown",
   "metadata": {},
   "source": [
    "## Naming conventions"
   ]
  },
  {
   "cell_type": "markdown",
   "metadata": {},
   "source": [
    "The python community has some naming convections, defined in PEP-8:\n",
    "\n",
    "https://www.python.org/dev/peps/pep-0008/\n",
    "\n",
    "The widely adopted ones are:\n",
    "\n",
    "* class names start with an uppercase, and use \"camelcase\" for multiword names, e.g. `ShoppingCart`\n",
    "\n",
    "* varible names (including objects which are instances of a class) are lowercase and use underscores to separate words, e.g., `shopping_cart`\n",
    "\n",
    "* module names should be lowercase with underscores\n",
    "\n"
   ]
  },
  {
   "cell_type": "markdown",
   "metadata": {},
   "source": [
    "# Practicing Classes"
   ]
  },
  {
   "cell_type": "markdown",
   "metadata": {},
   "source": [
    "## Exercise 1 (shopping cart)"
   ]
  },
  {
   "cell_type": "markdown",
   "metadata": {},
   "source": [
    "Let's write a simple shopping cart class -- this will hold items that you intend to purchase as well as the amount, etc.  And allow you to add / remove items, get a subtotal, etc.\n",
    "\n",
    "We'll use two classes: `Item` will be a single item and `ShoppingCart` will be the collection of items you wish to purchase.\n",
    "\n",
    "First, our store needs an inventory -- here's what we have for sale:"
   ]
  },
  {
   "cell_type": "code",
   "execution_count": 143,
   "metadata": {
    "jupyter": {
     "outputs_hidden": false
    }
   },
   "outputs": [],
   "source": [
    "INVENTORY_TEXT = \"\"\"\n",
    "apple, 0.60\n",
    "banana, 0.20\n",
    "grapefruit, 0.75\n",
    "grapes, 1.99\n",
    "kiwi, 0.50\n",
    "lemon, 0.20\n",
    "lime, 0.25\n",
    "mango, 1.50\n",
    "papaya, 2.95\n",
    "pineapple, 3.50\n",
    "blueberries, 1.99\n",
    "blackberries, 2.50\n",
    "peach, 0.50\n",
    "plum, 0.33\n",
    "clementine, 0.25\n",
    "cantaloupe, 3.25\n",
    "pear, 1.25\n",
    "quince, 0.45\n",
    "orange, 0.60\n",
    "\"\"\"\n",
    "\n",
    "# this will be a global -- convention is all caps\n",
    "INVENTORY = {}\n",
    "for line in INVENTORY_TEXT.splitlines():\n",
    "    if line.strip() == \"\":\n",
    "        continue\n",
    "    item, price = line.split(\",\")\n",
    "    INVENTORY[item] = float(price)\n"
   ]
  },
  {
   "cell_type": "code",
   "execution_count": 144,
   "metadata": {
    "jupyter": {
     "outputs_hidden": false
    }
   },
   "outputs": [
    {
     "data": {
      "text/plain": [
       "{'apple': 0.6,\n",
       " 'banana': 0.2,\n",
       " 'grapefruit': 0.75,\n",
       " 'grapes': 1.99,\n",
       " 'kiwi': 0.5,\n",
       " 'lemon': 0.2,\n",
       " 'lime': 0.25,\n",
       " 'mango': 1.5,\n",
       " 'papaya': 2.95,\n",
       " 'pineapple': 3.5,\n",
       " 'blueberries': 1.99,\n",
       " 'blackberries': 2.5,\n",
       " 'peach': 0.5,\n",
       " 'plum': 0.33,\n",
       " 'clementine': 0.25,\n",
       " 'cantaloupe': 3.25,\n",
       " 'pear': 1.25,\n",
       " 'quince': 0.45,\n",
       " 'orange': 0.6}"
      ]
     },
     "execution_count": 144,
     "metadata": {},
     "output_type": "execute_result"
    }
   ],
   "source": [
    "INVENTORY"
   ]
  },
  {
   "cell_type": "markdown",
   "metadata": {},
   "source": [
    "### `Item` "
   ]
  },
  {
   "cell_type": "markdown",
   "metadata": {},
   "source": [
    "Here's the start of an item class -- we want it to hold the name and quantity.  \n",
    "\n",
    "You should have the following features:\n",
    "\n",
    "* the name should be something in our inventory\n",
    "\n",
    "* Our shopping cart will include a list of all the items we want to buy, so we want to be able to check for duplicates.  Implement the equal test, `==`, using `__eq__`\n",
    "\n",
    "* we'll want to consolidate dupes, so implement the `+` operator, using `__add__` so we can add items together in our shopping cart.  Note, add should raise a ValueError if you try to add two `Items` that don't have the same name.\n",
    "\n",
    "Here's a start:"
   ]
  },
  {
   "cell_type": "code",
   "execution_count": 145,
   "metadata": {
    "jupyter": {
     "outputs_hidden": false
    }
   },
   "outputs": [],
   "source": [
    "class Item(object):\n",
    "    \"\"\" an item to buy \"\"\"\n",
    "    \n",
    "    def __init__(self, name, quantity=1):\n",
    "        if name not in INVENTORY:\n",
    "            raise ValueError\n",
    "        self.name = name\n",
    "        self.quantity = quantity\n",
    "        \n",
    "    def __repr__(self):\n",
    "        return \"Item({},{})\".format(self.name,self.quantity)\n",
    "        \n",
    "    def __eq__(self, other):\n",
    "        return (self.name == other.name)\n",
    "    \n",
    "    def __add__(self, other):\n",
    "        if self == other:\n",
    "            return Item(self.name,self.quantity + other.quantity)\n",
    "        else:\n",
    "            raise ValueError"
   ]
  },
  {
   "cell_type": "markdown",
   "metadata": {},
   "source": [
    "Here are some tests your code should pass:"
   ]
  },
  {
   "cell_type": "code",
   "execution_count": 146,
   "metadata": {},
   "outputs": [],
   "source": [
    "a = Item(\"apple\", 10)\n",
    "b = Item(\"banana\", 20)"
   ]
  },
  {
   "cell_type": "code",
   "execution_count": 147,
   "metadata": {
    "jupyter": {
     "outputs_hidden": false
    }
   },
   "outputs": [],
   "source": [
    "c = Item(\"apple\", 20)"
   ]
  },
  {
   "cell_type": "code",
   "execution_count": 148,
   "metadata": {
    "jupyter": {
     "outputs_hidden": false
    },
    "scrolled": true
   },
   "outputs": [
    {
     "ename": "ValueError",
     "evalue": "",
     "output_type": "error",
     "traceback": [
      "\u001b[1;31m---------------------------------------------------------------------------\u001b[0m",
      "\u001b[1;31mValueError\u001b[0m                                Traceback (most recent call last)",
      "\u001b[1;32m<ipython-input-148-b6f00cbc1c51>\u001b[0m in \u001b[0;36m<module>\u001b[1;34m\u001b[0m\n\u001b[0;32m      1\u001b[0m \u001b[1;31m# won't work\u001b[0m\u001b[1;33m\u001b[0m\u001b[1;33m\u001b[0m\u001b[1;33m\u001b[0m\u001b[0m\n\u001b[1;32m----> 2\u001b[1;33m \u001b[0ma\u001b[0m \u001b[1;33m+\u001b[0m \u001b[0mb\u001b[0m\u001b[1;33m\u001b[0m\u001b[1;33m\u001b[0m\u001b[0m\n\u001b[0m",
      "\u001b[1;32m<ipython-input-145-993f6b6132f7>\u001b[0m in \u001b[0;36m__add__\u001b[1;34m(self, other)\u001b[0m\n\u001b[0;32m     18\u001b[0m             \u001b[1;32mreturn\u001b[0m \u001b[0mItem\u001b[0m\u001b[1;33m(\u001b[0m\u001b[0mself\u001b[0m\u001b[1;33m.\u001b[0m\u001b[0mname\u001b[0m\u001b[1;33m,\u001b[0m\u001b[0mself\u001b[0m\u001b[1;33m.\u001b[0m\u001b[0mquantity\u001b[0m \u001b[1;33m+\u001b[0m \u001b[0mother\u001b[0m\u001b[1;33m.\u001b[0m\u001b[0mquantity\u001b[0m\u001b[1;33m)\u001b[0m\u001b[1;33m\u001b[0m\u001b[1;33m\u001b[0m\u001b[0m\n\u001b[0;32m     19\u001b[0m         \u001b[1;32melse\u001b[0m\u001b[1;33m:\u001b[0m\u001b[1;33m\u001b[0m\u001b[1;33m\u001b[0m\u001b[0m\n\u001b[1;32m---> 20\u001b[1;33m             \u001b[1;32mraise\u001b[0m \u001b[0mValueError\u001b[0m\u001b[1;33m\u001b[0m\u001b[1;33m\u001b[0m\u001b[0m\n\u001b[0m",
      "\u001b[1;31mValueError\u001b[0m: "
     ]
    }
   ],
   "source": [
    "# won't work\n",
    "a + b"
   ]
  },
  {
   "cell_type": "code",
   "execution_count": 149,
   "metadata": {},
   "outputs": [],
   "source": [
    "# will work\n",
    "a += c"
   ]
  },
  {
   "cell_type": "code",
   "execution_count": 150,
   "metadata": {
    "jupyter": {
     "outputs_hidden": false
    }
   },
   "outputs": [
    {
     "data": {
      "text/plain": [
       "Item(apple,30)"
      ]
     },
     "execution_count": 150,
     "metadata": {},
     "output_type": "execute_result"
    }
   ],
   "source": [
    "a"
   ]
  },
  {
   "cell_type": "code",
   "execution_count": 151,
   "metadata": {
    "jupyter": {
     "outputs_hidden": false
    }
   },
   "outputs": [
    {
     "data": {
      "text/plain": [
       "False"
      ]
     },
     "execution_count": 151,
     "metadata": {},
     "output_type": "execute_result"
    }
   ],
   "source": [
    "a == b"
   ]
  },
  {
   "cell_type": "code",
   "execution_count": 152,
   "metadata": {
    "jupyter": {
     "outputs_hidden": false
    }
   },
   "outputs": [
    {
     "data": {
      "text/plain": [
       "True"
      ]
     },
     "execution_count": 152,
     "metadata": {},
     "output_type": "execute_result"
    }
   ],
   "source": [
    "a == c"
   ]
  },
  {
   "cell_type": "markdown",
   "metadata": {},
   "source": [
    "How do they behave in a list?"
   ]
  },
  {
   "cell_type": "code",
   "execution_count": 153,
   "metadata": {
    "jupyter": {
     "outputs_hidden": false
    }
   },
   "outputs": [
    {
     "data": {
      "text/plain": [
       "[Item(apple,30), Item(banana,20)]"
      ]
     },
     "execution_count": 153,
     "metadata": {},
     "output_type": "execute_result"
    }
   ],
   "source": [
    "items = []\n",
    "items.append(a)\n",
    "items.append(b)\n",
    "items"
   ]
  },
  {
   "cell_type": "code",
   "execution_count": 154,
   "metadata": {
    "jupyter": {
     "outputs_hidden": false
    }
   },
   "outputs": [
    {
     "data": {
      "text/plain": [
       "True"
      ]
     },
     "execution_count": 154,
     "metadata": {},
     "output_type": "execute_result"
    }
   ],
   "source": [
    "c in items"
   ]
  },
  {
   "cell_type": "markdown",
   "metadata": {},
   "source": [
    "### `ShoppingCart`"
   ]
  },
  {
   "cell_type": "markdown",
   "metadata": {},
   "source": [
    "Now we want to create a shopping cart.  The main thing it will do is hold a list of items."
   ]
  },
  {
   "cell_type": "code",
   "execution_count": 155,
   "metadata": {},
   "outputs": [],
   "source": [
    "class ShoppingCart(object):\n",
    "    \n",
    "    def __init__(self):\n",
    "        self.items = []\n",
    "        \n",
    "    def subtotal(self):\n",
    "        \"\"\" return a subtotal of our items \"\"\"\n",
    "        st = []\n",
    "        for item in self.items:\n",
    "            st.append(item.quantity*INVENTORY[item.name])\n",
    "        return sum(st)\n",
    "        \n",
    "    def add(self, name, quantity):\n",
    "        \"\"\" add an item to our cart \"\"\"\n",
    "        if name not in INVENTORY:\n",
    "            raise ValueError\n",
    "        item_present = False\n",
    "        for i in range(0,len(self.items)):\n",
    "            try:\n",
    "                self.items[i] += Item(name,quantity)\n",
    "                item_present = True\n",
    "            except:\n",
    "                pass\n",
    "        if not item_present:\n",
    "            self.items.append(Item(name,quantity))\n",
    "        \n",
    "    def remove(self, name):\n",
    "        \"\"\" remove all of item name from the cart \"\"\"\n",
    "        if Item(name,1) not in self.items:\n",
    "            raise ValueError\n",
    "        for i in range(0,len(self.items)):\n",
    "            if self.items[i].name == name:\n",
    "                self.items.pop(i)\n",
    "        \n",
    "    def report(self):\n",
    "        \"\"\" print a summary of the cart \"\"\"\n",
    "        for item in self.items:\n",
    "            print(\"{}: {}\".format(item.name,item.quantity))\n",
    "        "
   ]
  },
  {
   "cell_type": "markdown",
   "metadata": {},
   "source": [
    "Here are some tests"
   ]
  },
  {
   "cell_type": "code",
   "execution_count": 156,
   "metadata": {},
   "outputs": [],
   "source": [
    "sc = ShoppingCart()\n",
    "sc.add(\"orange\", 19)"
   ]
  },
  {
   "cell_type": "code",
   "execution_count": 157,
   "metadata": {},
   "outputs": [],
   "source": [
    "sc.add(\"apple\", 2)"
   ]
  },
  {
   "cell_type": "code",
   "execution_count": 158,
   "metadata": {
    "jupyter": {
     "outputs_hidden": false
    }
   },
   "outputs": [
    {
     "name": "stdout",
     "output_type": "stream",
     "text": [
      "orange: 19\n",
      "apple: 2\n"
     ]
    }
   ],
   "source": [
    "sc.report()"
   ]
  },
  {
   "cell_type": "code",
   "execution_count": 159,
   "metadata": {},
   "outputs": [],
   "source": [
    "sc.add(\"apple\", 9)"
   ]
  },
  {
   "cell_type": "code",
   "execution_count": 160,
   "metadata": {
    "jupyter": {
     "outputs_hidden": false
    }
   },
   "outputs": [
    {
     "name": "stdout",
     "output_type": "stream",
     "text": [
      "orange: 19\n",
      "apple: 11\n"
     ]
    }
   ],
   "source": [
    "sc.report()"
   ]
  },
  {
   "cell_type": "code",
   "execution_count": 161,
   "metadata": {
    "jupyter": {
     "outputs_hidden": false
    }
   },
   "outputs": [
    {
     "data": {
      "text/plain": [
       "18.0"
      ]
     },
     "execution_count": 161,
     "metadata": {},
     "output_type": "execute_result"
    }
   ],
   "source": [
    "sc.subtotal()"
   ]
  },
  {
   "cell_type": "code",
   "execution_count": 162,
   "metadata": {
    "jupyter": {
     "outputs_hidden": false
    }
   },
   "outputs": [],
   "source": [
    "sc.remove(\"apple\")"
   ]
  },
  {
   "cell_type": "code",
   "execution_count": 163,
   "metadata": {
    "jupyter": {
     "outputs_hidden": false
    },
    "scrolled": true
   },
   "outputs": [
    {
     "name": "stdout",
     "output_type": "stream",
     "text": [
      "orange: 19\n"
     ]
    }
   ],
   "source": [
    "sc.report()"
   ]
  },
  {
   "cell_type": "markdown",
   "metadata": {},
   "source": [
    "## Exercise 2: Poker Odds"
   ]
  },
  {
   "cell_type": "markdown",
   "metadata": {},
   "source": [
    "Use the deck of cards class from the notebook we worked through outside of class to write a _Monte Carlo_ code that plays a lot of hands of straight poker (like 100,000).  Count how many of these hands has a particular poker hand (like 3-of-a-kind).  The ratio of # of hands with 3-of-a-kind to total hands is an approximation to the odds of getting a 3-of-a-kind in poker.\n",
    "\n",
    "You'll want to copy-paste those classes into a `.py` file to allow you to import and reuse them here"
   ]
  },
  {
   "cell_type": "code",
   "execution_count": 164,
   "metadata": {},
   "outputs": [],
   "source": [
    "# copy-pasting here so that a local .py file is not needed for others to run my code\n",
    "# also, a change was made\n",
    "\n",
    "class Card:\n",
    "    \n",
    "    def __init__(self, suit=1, rank=2):\n",
    "        if suit < 1 or suit > 4:\n",
    "            print(\"invalid suit, setting to 1\")\n",
    "            suit = 1\n",
    "            \n",
    "        self.suit = suit\n",
    "        self.rank = rank\n",
    "        \n",
    "\n",
    "    def value(self):\n",
    "        \"\"\" we want things order primarily by rank then suit \"\"\"\n",
    "        return self.suit + (self.rank-2)*4  #changed 14 to 4 and -1 to -2\n",
    "    \n",
    "    # we include this to allow for comparisons with < and > between cards \n",
    "    def __lt__(self, other):\n",
    "        return self.value() < other.value()\n",
    "\n",
    "    def __eq__(self, other):\n",
    "        return self.value() == other.value()\n",
    "    \n",
    "    def __hash__(self):\n",
    "        return hash((self.rank, self.suit))\n",
    "    \n",
    "    def __str__(self):\n",
    "        suits = [\"\\u2660\",  # spade\n",
    "                 \"\\u2665\",  # heart\n",
    "                 \"\\u2666\",  # diamond\n",
    "                 \"\\u2663\"]  # club\n",
    "        \n",
    "        r = str(self.rank)\n",
    "        if self.rank == 11:\n",
    "            r = \"J\"\n",
    "        elif self.rank == 12:\n",
    "            r = \"Q\"\n",
    "        elif self.rank == 13:\n",
    "            r = \"K\"\n",
    "        elif self.rank == 14:\n",
    "            r = \"A\"\n",
    "                \n",
    "        return r +':'+suits[self.suit-1]\n",
    "        "
   ]
  },
  {
   "cell_type": "code",
   "execution_count": 165,
   "metadata": {},
   "outputs": [],
   "source": [
    "import random\n",
    "\n",
    "class Deck:\n",
    "    \"\"\" the deck is a collection of cards \"\"\"\n",
    "\n",
    "    def __init__(self):\n",
    "\n",
    "        self.nsuits = 4\n",
    "        self.nranks = 13\n",
    "        self.minrank = 2\n",
    "        self.maxrank = self.minrank + self.nranks - 1\n",
    "\n",
    "        self.cards = []\n",
    "\n",
    "        for rank in range(self.minrank,self.maxrank+1):\n",
    "            for suit in range(1, self.nsuits+1):\n",
    "                self.cards.append(Card(rank=rank, suit=suit))\n",
    "\n",
    "    def shuffle(self):\n",
    "        random.shuffle(self.cards)\n",
    "\n",
    "    def get_cards(self, num=1):\n",
    "        hand = []\n",
    "        for n in range(num):\n",
    "            hand.append(self.cards.pop())\n",
    "\n",
    "        return hand\n",
    "    \n",
    "    def __str__(self):\n",
    "        string = \"\"\n",
    "        for c in self.cards:\n",
    "            string += str(c) + \" \"\n",
    "        return string"
   ]
  },
  {
   "cell_type": "code",
   "execution_count": 170,
   "metadata": {},
   "outputs": [],
   "source": [
    "def monte_carlo(num_hands): \n",
    "    types_of_hands = {\"straight_flush\":0,\"4_of_a_kind\":0,\"full_house\":0,\"flush\":0,\"straight\":0,\"3_of_a_kind\":0,\"2_pair\":0,\"pair\":0,\"high\":0} \n",
    "    for i in range(0,num_hands):\n",
    "        deck = Deck() # have to run this each time so the deck doesnt run out of cards\n",
    "        deck.shuffle()\n",
    "        hand = deck.get_cards(5)\n",
    "        suits,ranks = [card.suit for card in hand],[card.rank for card in hand]\n",
    "        set_lens = [len(set(suits)),len(set(ranks))]\n",
    "        if set_lens[0] == 1 and min(ranks) == max(ranks)-4: #a hand like Q,K,A,2,3 does not count as a straight\n",
    "            types_of_hands[\"straight_flush\"] += 1\n",
    "        elif set_lens[1] == 2:\n",
    "            dupes = [ranks.count(rank) for rank in set(ranks)]\n",
    "            dupes.sort()\n",
    "            if dupes == [2,3]:\n",
    "                types_of_hands[\"full_house\"] += 1\n",
    "            elif dupes == [1,4]:\n",
    "                types_of_hands[\"4_of_a_kind\"] += 1\n",
    "        elif set_lens[0] == 1:\n",
    "            types_of_hands[\"flush\"] += 1\n",
    "        elif min(ranks) == max(ranks)-4 and set_lens[1] == 5:\n",
    "            types_of_hands[\"straight\"] += 1\n",
    "        elif set_lens[1] == 3:\n",
    "            dupes = [ranks.count(rank) for rank in set(ranks)]\n",
    "            dupes.sort()\n",
    "            if dupes == [1,2,2]:\n",
    "                types_of_hands[\"2_pair\"] += 1\n",
    "            elif dupes == [1,1,3]:\n",
    "                types_of_hands[\"3_of_a_kind\"] += 1\n",
    "        elif set_lens[1] == 4:\n",
    "            types_of_hands[\"pair\"] += 1\n",
    "        else:\n",
    "            types_of_hands[\"high\"] += 1       \n",
    "    return types_of_hands"
   ]
  },
  {
   "cell_type": "code",
   "execution_count": 171,
   "metadata": {},
   "outputs": [
    {
     "data": {
      "text/plain": [
       "{'straight_flush': 2,\n",
       " '4_of_a_kind': 28,\n",
       " 'full_house': 138,\n",
       " 'flush': 186,\n",
       " 'straight': 342,\n",
       " '3_of_a_kind': 2084,\n",
       " '2_pair': 4642,\n",
       " 'pair': 42349,\n",
       " 'high': 50229}"
      ]
     },
     "execution_count": 171,
     "metadata": {},
     "output_type": "execute_result"
    }
   ],
   "source": [
    "monte_carlo(100000) # will take a few seconds"
   ]
  },
  {
   "cell_type": "markdown",
   "metadata": {},
   "source": [
    "## Exercise 3: Tic-Tac-Toe\n",
    "\n",
    "Revisit the tic-tac-toe game you developed in the functions exercises but now write it as a class with methods to do each of the main steps.  "
   ]
  },
  {
   "cell_type": "code",
   "execution_count": 172,
   "metadata": {},
   "outputs": [],
   "source": [
    "class TicTacToe:\n",
    "    \n",
    "    def __init__(self):\n",
    "        self.board = \"\"\"\n",
    "         {s1:^3} | {s2:^3} | {s3:^3}\n",
    "        -----+-----+-----\n",
    "         {s4:^3} | {s5:^3} | {s6:^3}\n",
    "        -----+-----+-----      123\n",
    "         {s7:^3} | {s8:^3} | {s9:^3}       456\n",
    "                               789  \n",
    "        \"\"\"\n",
    "        self.play = {}\n",
    "        \n",
    "    def initialize_board(self):\n",
    "        for n in range(9):\n",
    "            self.play[\"s{}\".format(n+1)] = \"\"\n",
    "            \n",
    "    def show_board(self):\n",
    "        \"\"\" display the playing board.  We take a dictionary with the current state of the board\n",
    "        We rely on the board string to be a global variable\"\"\"\n",
    "        print(self.board.format(**self.play))\n",
    "        \n",
    "    def get_move(self, n, xo):\n",
    "        \"\"\" ask the current player, n, to make a move -- make sure the square was not \n",
    "            already played.  xo is a string of the character (x or o) we will place in\n",
    "            the desired square \"\"\"\n",
    "        valid_move = False\n",
    "        while not valid_move:\n",
    "            idx = input(\"player {}, enter your move (1-9)\".format(n))\n",
    "            if self.play[\"s{}\".format(idx)] == \"\":\n",
    "                valid_move = True\n",
    "            else:\n",
    "                print(\"invalid: {}\".format(self.play[\"s{}\".format(idx)]))\n",
    "        self.play[\"s{}\".format(idx)] = xo\n",
    "        \n",
    "    def play_game(self):\n",
    "        \"\"\" play a game of tic-tac-toe \"\"\"\n",
    "        self.initialize_board()\n",
    "        self.show_board()\n",
    "        game_over = False\n",
    "        turn = 1 \n",
    "        while not game_over:\n",
    "            player = 2 - (turn % 2)\n",
    "            self.get_move(player,['x','o'][player-1])\n",
    "            self.show_board()\n",
    "            if player == 1:\n",
    "                check = [int(sq[1]) for sq in self.play if self.play[sq] == 'x']\n",
    "            elif player == 2:\n",
    "                check = [int(sq[1]) for sq in self.play if self.play[sq] == 'o']\n",
    "            for i,j,k in zip([1,4,7,1,2,3,1,3],[2,5,8,4,5,6,5,5],[3,6,9,7,8,9,9,7]):\n",
    "                if i in check and j in check and k in check and not game_over:\n",
    "                    game_over = True\n",
    "                    print(\"Congradulations, player {} has won!\".format(player))     \n",
    "            if turn == 9 and not game_over:\n",
    "                print(\"Game over!  It's a tie.\")\n",
    "                game_over = True\n",
    "            turn += 1"
   ]
  },
  {
   "cell_type": "code",
   "execution_count": null,
   "metadata": {},
   "outputs": [],
   "source": [
    "game = TicTacToe()\n",
    "game.play_game()"
   ]
  }
 ],
 "metadata": {
  "kernelspec": {
   "display_name": "Python 3",
   "language": "python",
   "name": "python3"
  },
  "language_info": {
   "codemirror_mode": {
    "name": "ipython",
    "version": 3
   },
   "file_extension": ".py",
   "mimetype": "text/x-python",
   "name": "python",
   "nbconvert_exporter": "python",
   "pygments_lexer": "ipython3",
   "version": "3.7.6"
  }
 },
 "nbformat": 4,
 "nbformat_minor": 4
}
